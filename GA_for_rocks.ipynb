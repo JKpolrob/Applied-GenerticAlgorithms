{
 "cells": [
  {
   "cell_type": "code",
   "execution_count": 140,
   "metadata": {},
   "outputs": [],
   "source": [
    "import numpy as np\n",
    "import matplotlib.pyplot as plt\n",
    "import pandas as pd\n",
    "%matplotlib inline"
   ]
  },
  {
   "cell_type": "code",
   "execution_count": 141,
   "metadata": {},
   "outputs": [],
   "source": [
    "def initial_pop(pop_size=10,n_genotype=3,first_num=0,final_num=100):\n",
    "    data = np.arange(first_num,final_num)\n",
    "    all_pop = np.random.choice(data,(pop_size, n_genotype))\n",
    "    return all_pop"
   ]
  },
  {
   "cell_type": "code",
   "execution_count": 142,
   "metadata": {},
   "outputs": [],
   "source": [
    "def fitness(pop_digit,pop_rock): #1*-1 dimension\n",
    "    mean_rock = sum(pop_rock[0])/len(pop_rock[0])\n",
    "    #mean_rock = 500\n",
    "    #print(\"mean of rocks :\",mean_rock)\n",
    "    new_rock = []\n",
    "    fitness_rock = []\n",
    "    sum_row = 0\n",
    "    rms_row = 0\n",
    "    for p in pop_digit:\n",
    "        idx = np.argsort(p) #sort small to big\n",
    "        rock = pop_rock[0][idx]\n",
    "        new_rock.append(rock)\n",
    "        r = rock.reshape((8,10))\n",
    "        for i in range(0,8):\n",
    "            for j in range(0,10):\n",
    "                sum_row += r[i][j]\n",
    "            #print(\"sum_row\",i,sum_row)\n",
    "            rms_row += (sum_row-mean_rock*10)**2\n",
    "            #print(\"rms_row \",i,rms_row)\n",
    "            sum_row = 0\n",
    "        fitness_rock.append(rms_row)\n",
    "        rms_row = 0\n",
    "    idx_best = np.argsort(fitness_rock)\n",
    "    pop_digit = pop_digit[idx_best]\n",
    "    fitness_rock = np.array(fitness_rock).reshape(1,-1)[0][idx_best]\n",
    "    new_rock = np.array(new_rock)[idx_best]\n",
    "    return pop_digit,new_rock,fitness_rock"
   ]
  },
  {
   "cell_type": "code",
   "execution_count": 143,
   "metadata": {},
   "outputs": [],
   "source": [
    "def crossover(pop,p_cross=0.7,n_genotype=3,p_size=10):\n",
    "    for k in range(2,p_size,2): \n",
    "        if np.random.rand()<p_cross:\n",
    "            parent = np.random.randint(0,p_size, 2) \n",
    "            crosspoint1 = np.random.randint(0, n_genotype)\n",
    "            crosspoint2 = np.random.randint(crosspoint1, n_genotype)\n",
    "            offsprint1 = np.concatenate((pop[parent[0]][:crosspoint1],pop[parent[1]][crosspoint1:crosspoint2],pop[parent[0]][crosspoint2:]))\n",
    "            offsprint2 = np.concatenate((pop[parent[1]][:crosspoint1],pop[parent[0]][crosspoint1:crosspoint2],pop[parent[1]][crosspoint2:]))\n",
    "            pop[k] = offsprint1\n",
    "            pop[k+1] = offsprint2\n",
    "            \n",
    "            #print(\"which\",k,k+1)\n",
    "            #print(\"parent\",parent)\n",
    "            #print(\"position\",crosspoint1,crosspoint2)\n",
    "    return pop"
   ]
  },
  {
   "cell_type": "code",
   "execution_count": 144,
   "metadata": {},
   "outputs": [],
   "source": [
    "def mutattion(pop,p_mutate=0.2,n_genotype=3,p_size=10,first_posi=0,final_posi=100):\n",
    "    data = np.arange(first_posi,final_posi)\n",
    "    for k in range(1, p_size):\n",
    "        if np.random.rand() < p_mutate:\n",
    "            \n",
    "            mutatepoint1 = np.random.randint(1, n_genotype)\n",
    "            mutatepoint2 = np.random.randint(1, n_genotype)\n",
    "            mutatepoint3 = np.random.randint(1, n_genotype)\n",
    "            pop[k][mutatepoint1] = np.random.choice(data)\n",
    "            pop[k][mutatepoint2] = np.random.choice(data)\n",
    "            pop[k][mutatepoint3] = np.random.choice(data)\n",
    "            \n",
    "            #print(k) \n",
    "            #print(mutatepoint1)\n",
    "            #print(pop[k][mutatepoint1])\n",
    "    return pop"
   ]
  },
  {
   "cell_type": "markdown",
   "metadata": {},
   "source": [
    "# 1.Import Dataset"
   ]
  },
  {
   "cell_type": "code",
   "execution_count": 145,
   "metadata": {},
   "outputs": [
    {
     "data": {
      "text/plain": [
       "array([[22.3, 23.5, 23.8, 23.8, 24. , 24. , 24. , 24.2, 24.2, 24.3, 22.5,\n",
       "        23.7, 23.8, 23.8, 24. , 24. , 24.2, 24.2, 24.2, 24.3, 22.8, 23.7,\n",
       "        23.8, 23.8, 24. , 24. , 24.2, 24.2, 24.2, 24.3, 22.8, 23.7, 23.8,\n",
       "        23.8, 24. , 24. , 24.2, 24.2, 24.2, 24.3, 23. , 23.8, 23.8, 23.8,\n",
       "        24. , 24. , 24.2, 24.2, 24.2, 24.5, 23. , 23.8, 23.8, 24. , 24. ,\n",
       "        24. , 24.2, 24.2, 24.2, 24.5, 23. , 23.8, 23.8, 24. , 24. , 24. ,\n",
       "        24.2, 24.2, 24.3, 24.6, 23.5, 23.8, 23.8, 24. , 24. , 24. , 24.2,\n",
       "        24.2, 24.3, 24.7]])"
      ]
     },
     "execution_count": 145,
     "metadata": {},
     "output_type": "execute_result"
    }
   ],
   "source": [
    "df = pd.read_excel(\"data-test-j.xlsx\")\n",
    "pop_rock = np.array(df).reshape(1,-1)\n",
    "pop_rock"
   ]
  },
  {
   "cell_type": "code",
   "execution_count": 166,
   "metadata": {},
   "outputs": [],
   "source": [
    "n_iter = 50\n",
    "p_size = 20\n",
    "n_genotype = 80\n",
    "p_cross = 0.7\n",
    "p_mutate=0.7\n",
    "\n",
    "pop_digit = initial_pop(p_size,n_genotype,0,100)\n",
    "best_pop = []\n",
    "best_rock = []\n",
    "best_fitness = []\n",
    "z=0"
   ]
  },
  {
   "cell_type": "code",
   "execution_count": 167,
   "metadata": {},
   "outputs": [
    {
     "name": "stdout",
     "output_type": "stream",
     "text": [
      "iteration:1 [fitness = 4.039999999999898783187290973729] \n",
      "iteration:2 [fitness = 4.039999999999898783187290973729] \n",
      "iteration:3 [fitness = 1.619999999999974793496448910446] \n",
      "iteration:4 [fitness = 1.619999999999974793496448910446] \n",
      "iteration:5 [fitness = 0.659999999999947739581784844631] \n",
      "iteration:6 [fitness = 0.659999999999947739581784844631] \n",
      "iteration:7 [fitness = 0.659999999999947739581784844631] \n",
      "iteration:8 [fitness = 0.659999999999947739581784844631] \n",
      "iteration:9 [fitness = 0.659999999999947739581784844631] \n",
      "iteration:10 [fitness = 0.659999999999947739581784844631] \n",
      "iteration:11 [fitness = 0.659999999999947739581784844631] \n",
      "iteration:12 [fitness = 0.659999999999947739581784844631] \n",
      "iteration:13 [fitness = 0.659999999999947739581784844631] \n",
      "iteration:14 [fitness = 0.659999999999947739581784844631] \n",
      "iteration:15 [fitness = 0.659999999999947739581784844631] \n",
      "iteration:16 [fitness = 0.659999999999947739581784844631] \n",
      "iteration:17 [fitness = 0.659999999999947739581784844631] \n",
      "iteration:18 [fitness = 0.659999999999947739581784844631] \n",
      "iteration:19 [fitness = 0.659999999999947739581784844631] \n",
      "iteration:20 [fitness = 0.659999999999947739581784844631] \n",
      "iteration:21 [fitness = 0.659999999999947739581784844631] \n",
      "iteration:22 [fitness = 0.659999999999947739581784844631] \n",
      "iteration:23 [fitness = 0.659999999999947739581784844631] \n",
      "iteration:24 [fitness = 0.659999999999947739581784844631] \n",
      "iteration:25 [fitness = 0.659999999999947739581784844631] \n",
      "iteration:26 [fitness = 0.659999999999947739581784844631] \n",
      "iteration:27 [fitness = 0.659999999999947739581784844631] \n",
      "iteration:28 [fitness = 0.659999999999947739581784844631] \n",
      "iteration:29 [fitness = 0.659999999999947739581784844631] \n",
      "iteration:30 [fitness = 0.659999999999947739581784844631] \n",
      "iteration:31 [fitness = 0.659999999999947739581784844631] \n",
      "iteration:32 [fitness = 0.659999999999947739581784844631] \n",
      "iteration:33 [fitness = 0.659999999999947739581784844631] \n",
      "iteration:34 [fitness = 0.659999999999947739581784844631] \n",
      "iteration:35 [fitness = 0.659999999999947739581784844631] \n",
      "iteration:36 [fitness = 0.659999999999947739581784844631] \n",
      "iteration:37 [fitness = 0.379999999999990900612090172217] \n",
      "iteration:38 [fitness = 0.379999999999990900612090172217] \n",
      "iteration:39 [fitness = 0.379999999999990900612090172217] \n",
      "iteration:40 [fitness = 0.379999999999990900612090172217] \n",
      "iteration:41 [fitness = 0.379999999999990900612090172217] \n",
      "iteration:42 [fitness = 0.379999999999990900612090172217] \n",
      "iteration:43 [fitness = 0.379999999999990900612090172217] \n",
      "iteration:44 [fitness = 0.379999999999990900612090172217] \n",
      "iteration:45 [fitness = 0.379999999999990900612090172217] \n",
      "iteration:46 [fitness = 0.379999999999990900612090172217] \n",
      "iteration:47 [fitness = 0.379999999999990900612090172217] \n",
      "iteration:48 [fitness = 0.379999999999990900612090172217] \n",
      "iteration:49 [fitness = 0.379999999999990900612090172217] \n",
      "iteration:50 [fitness = 0.379999999999990900612090172217] \n"
     ]
    },
    {
     "data": {
      "image/png": "[encoded data removed]",
      "text/plain": [
       "<Figure size 432x288 with 1 Axes>"
      ]
     },
     "metadata": {
      "needs_background": "light"
     },
     "output_type": "display_data"
    }
   ],
   "source": [
    "while z<n_iter:\n",
    "    z+=1\n",
    "    group_solu = fitness(pop_digit,pop_rock)\n",
    "    best_pop.append(group_solu[0][0])\n",
    "    best_rock.append(group_solu[1][0])\n",
    "    best_fitness.append(group_solu[2][0])\n",
    "    \n",
    "    print('iteration:{} [fitness = {:.30f}] '.format(z,group_solu[2][0]))\n",
    "    final_cross_pop = crossover(group_solu[0],p_cross,n_genotype,p_size)\n",
    "    final_mutate_pop = mutattion(final_cross_pop,p_mutate,n_genotype,p_size,0,100)\n",
    "    pop_digit = final_mutate_pop \n",
    "plt.clf()\n",
    "xticks = range(1, len(best_fitness)+1)\n",
    "plt.plot(xticks, best_fitness)\n",
    "plt.xlabel('Iterations')\n",
    "plt.ylabel('Fitness')\n",
    "plt.pause(1e-10)\n",
    "plt.show()"
   ]
  },
  {
   "cell_type": "code",
   "execution_count": 168,
   "metadata": {},
   "outputs": [
    {
     "name": "stdout",
     "output_type": "stream",
     "text": [
      "best rock: fitness = 0.3799999999999909\n",
      "[[24.  24.  24.  24.  24.2 24.2 22.8 23.7 23.8 24.6]\n",
      " [24.  24.  24.3 23.8 24.2 23.7 24.  23.  24.3 24. ]\n",
      " [23.8 24.2 23.8 24.2 24.  23.8 24.2 23.  24.  24. ]\n",
      " [24.2 22.8 24.  23.8 24.3 24.  24.2 24.  23.7 24.2]\n",
      " [24.3 23.8 24.2 24.2 24.2 22.5 24.2 24.2 23.8 23.8]\n",
      " [23.8 23.8 23.  24.  23.8 24.  23.8 24.3 24.2 24.5]\n",
      " [24.5 24.  24.3 23.8 24.  24.  24.  22.3 24.2 24.7]\n",
      " [23.5 24.2 23.8 23.5 23.8 24.2 23.8 24.2 24.2 24.2]]\n"
     ]
    }
   ],
   "source": [
    "idex_final = np.argsort(best_fitness) #sort small to big\n",
    "print(\"best rock: fitness = {}\\n{}\".format(best_fitness[idex_final[0]],best_rock[idex_final[0]].reshape((8,10))))"
   ]
  },
  {
   "cell_type": "code",
   "execution_count": 169,
   "metadata": {},
   "outputs": [
    {
     "name": "stdout",
     "output_type": "stream",
     "text": [
      "239.3\n",
      "239.3\n",
      "239.0\n",
      "239.19999999999996\n",
      "239.2\n",
      "239.2\n",
      "239.79999999999998\n",
      "239.39999999999998\n"
     ]
    }
   ],
   "source": [
    "r = best_rock[idex_final[0]].reshape((8,10))\n",
    "sum_row = 0\n",
    "for i in range(0,8):\n",
    "    for j in range(0,10):\n",
    "        sum_row += r[i][j]\n",
    "    print(sum_row)\n",
    "    sum_row = 0"
   ]
  },
  {
   "cell_type": "code",
   "execution_count": 170,
   "metadata": {},
   "outputs": [
    {
     "name": "stdout",
     "output_type": "stream",
     "text": [
      "[0.38 0.38 0.38 0.38 0.38 0.38 0.38 0.38 0.38 0.38 0.38 0.38 0.38 0.38\n",
      " 0.66 0.66 0.66 0.66 0.66 0.66 0.66 0.66 0.66 0.66 0.66 0.66 0.66 0.66\n",
      " 0.66 0.66 0.66 0.66 0.66 0.66 0.66 0.66 0.66 0.66 0.66 0.66 0.66 0.66\n",
      " 0.66 0.66 0.66 0.66 1.62 1.62 4.04 4.04]\n"
     ]
    }
   ],
   "source": [
    "#239.2, 239, 239.5, 239.5, 239.2, 239, 239.5, 239.5\n",
    "\n",
    "best = np.array(best_fitness).reshape(1,-1)[0][idex_final]\n",
    "print(best)"
   ]
  },
  {
   "cell_type": "code",
   "execution_count": null,
   "metadata": {},
   "outputs": [],
   "source": []
  }
 ],
 "metadata": {
  "kernelspec": {
   "display_name": "Python 3",
   "language": "python",
   "name": "python3"
  },
  "language_info": {
   "codemirror_mode": {
    "name": "ipython",
    "version": 3
   },
   "file_extension": ".py",
   "mimetype": "text/x-python",
   "name": "python",
   "nbconvert_exporter": "python",
   "pygments_lexer": "ipython3",
   "version": "3.7.5"
  }
 },
 "nbformat": 4,
 "nbformat_minor": 4
}
